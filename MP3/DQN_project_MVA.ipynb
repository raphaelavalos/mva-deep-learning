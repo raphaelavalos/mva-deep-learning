{
 "cells": [
  {
   "cell_type": "markdown",
   "metadata": {},
   "source": [
    "**You may need to install [OpenCV](https://pypi.python.org/pypi/opencv-python) and [scikit-video](http://www.scikit-video.org/stable/).**"
   ]
  },
  {
   "cell_type": "code",
   "execution_count": 1,
   "metadata": {
    "collapsed": false
   },
   "outputs": [
    {
     "name": "stderr",
     "output_type": "stream",
     "text": [
      "Using TensorFlow backend.\n"
     ]
    }
   ],
   "source": [
    "import tensorflow as tf\n",
    "import numpy as np\n",
    "import io\n",
    "import base64\n",
    "from IPython.display import HTML\n",
    "import skvideo.io\n",
    "import cv2\n",
    "import json\n",
    "\n",
    "from keras.models import Sequential,model_from_json\n",
    "from keras.layers.core import Dense, Flatten\n",
    "from keras.optimizers import sgd\n",
    "from keras.layers import Conv2D, MaxPooling2D, Activation, AveragePooling2D,Reshape,BatchNormalization"
   ]
  },
  {
   "cell_type": "markdown",
   "metadata": {},
   "source": [
    "# MiniProject #3: Deep Reinforcement Learning"
   ]
  },
  {
   "cell_type": "markdown",
   "metadata": {},
   "source": [
    "__Notations__: $E_p$ is the expectation under probability $p$. Please justify each of your answer and widely comment your code."
   ]
  },
  {
   "cell_type": "markdown",
   "metadata": {},
   "source": [
    "# Context"
   ]
  },
  {
   "cell_type": "markdown",
   "metadata": {},
   "source": [
    "In a reinforcement learning algorithm, we modelize each step $t$ as an action $a_t$ obtained from a state $s_t$, i.e. $\\{(a_{t},s_{t})_{t\\leq T}\\}$ having the Markov property. We consider a discount factor $\\gamma \\in [0,1]$ that ensures convergence. The goal is to find among all the policies $\\pi$, one that maximizes the expected reward:\n",
    "\n",
    "\\begin{equation*}\n",
    "R(\\pi)=\\sum_{t\\leq T}E_{p^{\\pi}}[\\gamma^t r(s_{t},a_{t})] \\> ,\n",
    "\\end{equation*}\n",
    "\n",
    "where: \n",
    "\\begin{equation*}p^{\\pi}(a_{0},a_{1},s_{1},...,a_{T},s_{T})=p(a_{0})\\prod_{t=1}^{T}\\pi(a_{t}|s_{t})p(s_{t+1}|s_{t},a_{t}) \\> .\n",
    "\\end{equation*}\n",
    "\n",
    "We note the $Q$-function:\n",
    "\n",
    "\\begin{equation*}Q^\\pi(s,a)=E_{p^{\\pi}}[\\sum_{t\\leq T}\\gamma^{t}r(s_{t},a_{t})|s_{0}=s,a_{0}=a] \\> .\n",
    "\\end{equation*}\n",
    "\n",
    "Thus, the optimal Q function is:\n",
    "\\begin{equation*}\n",
    "Q^*(s,a)=\\max_{\\pi}Q^\\pi(s,a) \\> .\n",
    "\\end{equation*}\n",
    "\n",
    "In this project, we will apply the deep reinforcement learning techniques to a simple game: an agent will have to learn from scratch a policy that will permit it maximizing a reward."
   ]
  },
  {
   "cell_type": "markdown",
   "metadata": {},
   "source": [
    "## The environment, the agent and the game"
   ]
  },
  {
   "cell_type": "markdown",
   "metadata": {},
   "source": [
    "### The environment"
   ]
  },
  {
   "cell_type": "markdown",
   "metadata": {},
   "source": [
    "```Environment``` is an abstract class that represents the states, rewards, and actions to obtain the new state."
   ]
  },
  {
   "cell_type": "code",
   "execution_count": 2,
   "metadata": {
    "collapsed": true
   },
   "outputs": [],
   "source": [
    "class Environment(object):\n",
    "    def __init__(self):\n",
    "        pass\n",
    "\n",
    "    def act(self, act):\n",
    "        \"\"\"\n",
    "        One can act on the environment and obtain its reaction:\n",
    "        - the new state\n",
    "        - the reward of the new state\n",
    "        - should we continue the game?\n",
    "\n",
    "        :return: state, reward, game_over\n",
    "        \"\"\"\n",
    "        pass\n",
    "\n",
    "\n",
    "    def reset(self):\n",
    "        \"\"\"\n",
    "        Reinitialize the environment to a random state and returns\n",
    "        the original state\n",
    "\n",
    "        :return: state\n",
    "        \"\"\"\n",
    "        pass\n",
    "    \n",
    "    def draw(self):\n",
    "        \"\"\"\n",
    "        Visualize in the console or graphically the current state\n",
    "        \"\"\"\n",
    "        pass"
   ]
  },
  {
   "cell_type": "markdown",
   "metadata": {},
   "source": [
    "The method ```act``` allows to act on the environment at a given state $s_t$ (stored internally), via action $a_t$. The method will return the new state $s_{t+1}$, the reward $r(s_{t},a_{t})$ and determines if $t\\leq T$ (*game_over*).\n",
    "\n",
    "The method ```reset``` simply reinitializes the environment to a random state $s_0$.\n",
    "\n",
    "The method ```draw``` displays the current state $s_t$ (this is useful to check the behavior of the Agent).\n",
    "\n",
    "We modelize $s_t$ as a tensor, while $a_t$ is an integer."
   ]
  },
  {
   "cell_type": "markdown",
   "metadata": {},
   "source": [
    "### The Agent"
   ]
  },
  {
   "cell_type": "markdown",
   "metadata": {},
   "source": [
    "The goal of the ```Agent``` is to interact with the ```Environment``` by proposing actions $a_t$ obtained from a given state $s_t$ to attempt to maximize its __reward__ $r(s_t,a_t)$. We propose the following abstract class:"
   ]
  },
  {
   "cell_type": "code",
   "execution_count": 3,
   "metadata": {
    "collapsed": true
   },
   "outputs": [],
   "source": [
    "class Agent(object):\n",
    "    def __init__(self, epsilon=0.1, n_action=4):\n",
    "        self.epsilon = epsilon\n",
    "        self.n_action = n_action\n",
    "    \n",
    "    def set_epsilon(self,e):\n",
    "        self.epsilon = e\n",
    "\n",
    "    def act(self,s,train=True):\n",
    "        \"\"\" This function should return the next action to do:\n",
    "        an integer between 0 and 4 (not included) with a random exploration of epsilon\"\"\"\n",
    "        if train:\n",
    "            if np.random.rand() <= self.epsilon:\n",
    "                a = np.random.randint(0, self.n_action, size=1)[0]\n",
    "            else:\n",
    "                a = self.learned_act(s)\n",
    "        else: # in some cases, this can improve the performance.. remove it if poor performances\n",
    "            a = self.learned_act(s)\n",
    "\n",
    "        return a\n",
    "\n",
    "    def learned_act(self,s):\n",
    "        \"\"\" Act via the policy of the agent, from a given state s\n",
    "        it proposes an action a\"\"\"\n",
    "        pass\n",
    "\n",
    "    def reinforce(self, s, n_s, a, r, game_over_):\n",
    "        \"\"\" This function is the core of the learning algorithm. \n",
    "        It takes as an input the current state s_, the next state n_s_\n",
    "        the action a_ used to move from s_ to n_s_ and the reward r_.\n",
    "        \n",
    "        Its goal is to learn a policy.\n",
    "        \"\"\"\n",
    "        pass\n",
    "\n",
    "    def save(self):\n",
    "        \"\"\" This function returns basic stats if applicable: the\n",
    "        loss and/or the model\"\"\"\n",
    "        pass\n",
    "\n",
    "    def load(self):\n",
    "        \"\"\" This function allows to restore a model\"\"\"\n",
    "        pass"
   ]
  },
  {
   "cell_type": "markdown",
   "metadata": {},
   "source": [
    "***\n",
    "__Question 1__:\n",
    "Explain the function act. Why is ```epsilon``` essential?"
   ]
  },
  {
   "cell_type": "markdown",
   "metadata": {},
   "source": [
    "Epsilon is essential because the Agent needs to find a balance between exploration and exploitation."
   ]
  },
  {
   "cell_type": "markdown",
   "metadata": {},
   "source": [
    "***\n",
    "### The Game"
   ]
  },
  {
   "cell_type": "markdown",
   "metadata": {},
   "source": [
    "The ```Agent``` and the ```Environment``` work in an interlaced way as in the following (take some time to understand this code as it is the core of the project)\n",
    "\n",
    "```python\n",
    "\n",
    "epoch = 300\n",
    "env = Environment()\n",
    "agent = Agent()\n",
    "\n",
    "\n",
    "# Number of won games\n",
    "score = 0\n",
    "loss = 0\n",
    "\n",
    "\n",
    "for e in range(epoch):\n",
    "    # At each epoch, we restart to a fresh game and get the initial state\n",
    "    state = env.reset()\n",
    "    # This assumes that the games will end\n",
    "    game_over = False\n",
    "\n",
    "    win = 0\n",
    "    lose = 0\n",
    "    \n",
    "    while not game_over:\n",
    "        # The agent performs an action\n",
    "        action = agent.act(state)\n",
    "\n",
    "        # Apply an action to the environment, get the next state, the reward\n",
    "        # and if the games end\n",
    "        prev_state = state\n",
    "        state, reward, game_over = env.act(action)\n",
    "\n",
    "        # Update the counters\n",
    "        if reward > 0:\n",
    "            win = win + reward\n",
    "        if reward < 0:\n",
    "            lose = lose -reward\n",
    "\n",
    "        # Apply the reinforcement strategy\n",
    "        loss = agent.reinforce(prev_state, state,  action, reward, game_over)\n",
    "\n",
    "    # Save as a mp4\n",
    "    if e % 10 == 0:\n",
    "        env.draw(e)\n",
    "\n",
    "    # Update stats\n",
    "    score += win-lose\n",
    "\n",
    "    print(\"Epoch {:03d}/{:03d} | Loss {:.4f} | Win/lose count {}/{} ({})\"\n",
    "          .format(e, epoch, loss, win, lose, win-lose))\n",
    "    agent.save()\n",
    "```"
   ]
  },
  {
   "cell_type": "markdown",
   "metadata": {},
   "source": [
    "# The game, *eat cheese*"
   ]
  },
  {
   "cell_type": "markdown",
   "metadata": {},
   "source": [
    "A rat runs on an island and tries to eat as much as possible. The island is subdivided into $N\\times N$ cells, in which there are cheese (+0.5) and poisonous cells (-1). The rat has a visibility of 2 cells (thus it can see $5^2$ cells). The rat is given a time $T$ to accumulate as much food as possible. It can perform 4 actions: going up, down, left, right. \n",
    "\n",
    "The goal is to code an agent to solve this task that will learn by trial and error. We propose the following environment:"
   ]
  },
  {
   "cell_type": "code",
   "execution_count": 4,
   "metadata": {
    "collapsed": true
   },
   "outputs": [],
   "source": [
    "class Environment(object):\n",
    "    def __init__(self, grid_size=10, max_time=500, temperature=0.1):\n",
    "        grid_size = grid_size+4\n",
    "        self.grid_size = grid_size\n",
    "        self.max_time = max_time\n",
    "        self.temperature = temperature\n",
    "\n",
    "        #board on which one plays\n",
    "        self.board = np.zeros((grid_size,grid_size))\n",
    "        self.position = np.zeros((grid_size,grid_size))\n",
    "\n",
    "        # coordinate of the cat\n",
    "        self.x = 0\n",
    "        self.y = 1\n",
    "\n",
    "        # self time\n",
    "        self.t = 0\n",
    "\n",
    "        self.scale=16\n",
    "\n",
    "        self.to_draw = np.zeros((max_time+2, grid_size*self.scale, grid_size*self.scale, 3))\n",
    "\n",
    "\n",
    "    def draw(self,e):\n",
    "        skvideo.io.vwrite(str(e) + '.mp4', self.to_draw)\n",
    "\n",
    "    def get_frame(self,t):\n",
    "        b = np.zeros((self.grid_size,self.grid_size,3))+128\n",
    "        b[self.board>0,0] = 256\n",
    "        b[self.board < 0, 2] = 256\n",
    "        b[self.x,self.y,:]=256\n",
    "        b[-2:,:,:]=0\n",
    "        b[:,-2:,:]=0\n",
    "        b[:2,:,:]=0\n",
    "        b[:,:2,:]=0\n",
    "        \n",
    "        b =  cv2.resize(b, None, fx=self.scale, fy=self.scale, interpolation=cv2.INTER_NEAREST)\n",
    "\n",
    "        self.to_draw[t,:,:,:]=b\n",
    "\n",
    "\n",
    "    def act(self, action):\n",
    "        \"\"\"This function returns the new state, reward and decides if the\n",
    "        game ends.\"\"\"\n",
    "\n",
    "        self.get_frame(int(self.t))\n",
    "\n",
    "        self.position = np.zeros((self.grid_size, self.grid_size))\n",
    "\n",
    "        self.position[0:2,:]= -1\n",
    "        self.position[:,0:2] = -1\n",
    "        self.position[-2:, :] = -1\n",
    "        self.position[:, -2:] = -1\n",
    "\n",
    "        self.position[self.x, self.y] = 1\n",
    "        if action == 0:\n",
    "            if self.x == self.grid_size-3:\n",
    "                self.x = self.x-1\n",
    "            else:\n",
    "                self.x = self.x + 1\n",
    "        elif action == 1:\n",
    "            if self.x == 2:\n",
    "                self.x = self.x+1\n",
    "            else:\n",
    "                self.x = self.x-1\n",
    "        elif action == 2:\n",
    "            if self.y == self.grid_size - 3:\n",
    "                self.y = self.y - 1\n",
    "            else:\n",
    "                self.y = self.y + 1\n",
    "        elif action == 3:\n",
    "            if self.y == 2:\n",
    "                self.y = self.y + 1\n",
    "            else:\n",
    "                self.y = self.y - 1\n",
    "        else:\n",
    "            RuntimeError('Error: action not recognized')\n",
    "\n",
    "        self.t = self.t + 1\n",
    "        reward = self.board[self.x, self.y]\n",
    "        self.board[self.x, self.y] = 0\n",
    "        game_over = self.t > self.max_time\n",
    "        state = np.concatenate((self.board.reshape(self.grid_size, self.grid_size,1),\n",
    "                        self.position.reshape(self.grid_size, self.grid_size,1)),axis=2)\n",
    "        state = state[self.x-2:self.x+3,self.y-2:self.y+3,:]\n",
    "\n",
    "        return state, reward, game_over\n",
    "\n",
    "    def reset(self):\n",
    "        \"\"\"This function resets the game and returns the initial state\"\"\"\n",
    "\n",
    "        self.x = np.random.randint(3, self.grid_size-3, size=1)[0]\n",
    "        self.y = np.random.randint(3, self.grid_size-3, size=1)[0]\n",
    "\n",
    "\n",
    "        bonus = 0.5*np.random.binomial(1,self.temperature,size=self.grid_size**2)\n",
    "        bonus = bonus.reshape(self.grid_size,self.grid_size)\n",
    "\n",
    "        malus = -1.0*np.random.binomial(1,self.temperature,size=self.grid_size**2)\n",
    "        malus = malus.reshape(self.grid_size, self.grid_size)\n",
    "\n",
    "        self.to_draw = np.zeros((self.max_time+2, self.grid_size*self.scale, self.grid_size*self.scale, 3))\n",
    "\n",
    "\n",
    "        malus[bonus>0]=0\n",
    "\n",
    "        self.board = bonus + malus\n",
    "\n",
    "        self.position = np.zeros((self.grid_size, self.grid_size))\n",
    "        self.position[0:2,:]= -1\n",
    "        self.position[:,0:2] = -1\n",
    "        self.position[-2:, :] = -1\n",
    "        self.position[-2:, :] = -1\n",
    "        self.board[self.x,self.y] = 0\n",
    "        self.t = 0\n",
    "\n",
    "        state = np.concatenate((\n",
    "                               self.board.reshape(self.grid_size, self.grid_size,1),\n",
    "                        self.position.reshape(self.grid_size, self.grid_size,1)),axis=2)\n",
    "\n",
    "        state = state[self.x - 2:self.x + 3, self.y - 2:self.y + 3, :]\n",
    "        return state"
   ]
  },
  {
   "cell_type": "markdown",
   "metadata": {},
   "source": [
    "The following elements are important because they correspond to the hyper parameters for this project:"
   ]
  },
  {
   "cell_type": "code",
   "execution_count": 5,
   "metadata": {},
   "outputs": [],
   "source": [
    "# parameters\n",
    "size = 13\n",
    "T=200\n",
    "temperature=0.3\n",
    "epochs_train=100 # set small when debugging\n",
    "epochs_test=10 # set small when debugging\n",
    "\n",
    "# display videos\n",
    "def display_videos(name):\n",
    "    video = io.open(name, 'r+b').read()\n",
    "    encoded = base64.b64encode(video)\n",
    "    return '''<video alt=\"test\" controls>\n",
    "                <source src=\"data:video/mp4;base64,{0}\" type=\"video/mp4\" />\n",
    "             </video>'''.format(encoded.decode('ascii'))"
   ]
  },
  {
   "cell_type": "markdown",
   "metadata": {},
   "source": [
    "__Question 2__ Explain the use of the arrays ```position``` and ```board```."
   ]
  },
  {
   "cell_type": "markdown",
   "metadata": {},
   "source": [
    "The array board contains the location of the rewards and penalties while the array position contains the actual position (1), the walls (-1) and the available positions/ the rest (0). "
   ]
  },
  {
   "cell_type": "markdown",
   "metadata": {},
   "source": [
    "## Random Agent"
   ]
  },
  {
   "cell_type": "markdown",
   "metadata": {},
   "source": [
    "***\n",
    "__Question 3__ Implement a random Agent (only ```learned_act``` needs to be implemented):"
   ]
  },
  {
   "cell_type": "code",
   "execution_count": 6,
   "metadata": {
    "collapsed": true
   },
   "outputs": [],
   "source": [
    "class RandomAgent(Agent):\n",
    "    def __init__(self):\n",
    "        super(RandomAgent, self).__init__()\n",
    "        pass\n",
    "\n",
    "    def learned_act(self, s):\n",
    "        return np.random.randint(4)"
   ]
  },
  {
   "cell_type": "markdown",
   "metadata": {},
   "source": [
    "***\n",
    "***\n",
    "__Question 4__ Visualize the game moves. You need to fill in the following function for the evaluation:"
   ]
  },
  {
   "cell_type": "code",
   "execution_count": 16,
   "metadata": {
    "collapsed": true
   },
   "outputs": [],
   "source": [
    "def test(agent,env,epochs,prefix=''):\n",
    "    # Number of won games\n",
    "    score = 0\n",
    "    tmp_epsilon = agent.epsilon\n",
    "    agent.set_epsilon(0.05)\n",
    "    for e in range(1,epochs+1):\n",
    "        # At each epoch, we restart to a fresh game and get the initial state\n",
    "        state = env.reset()\n",
    "        # This assumes that the games will end\n",
    "        game_over = False\n",
    "\n",
    "        win = 0\n",
    "        lose = 0\n",
    "\n",
    "        while not game_over:\n",
    "            # The agent performs an action\n",
    "            action = agent.act(state)\n",
    "\n",
    "            # Apply an action to the environment, get the next state, the reward\n",
    "            # and if the games end\n",
    "            prev_state = state\n",
    "            state, reward, game_over = env.act(action)\n",
    "\n",
    "            # Update the counters\n",
    "            if reward > 0:\n",
    "                win = win + reward\n",
    "            if reward < 0:\n",
    "                lose = lose -reward\n",
    "\n",
    "        # Save as a mp4\n",
    "        env.draw(prefix+str(e))\n",
    "        # Update stats\n",
    "        score += win-lose\n",
    "\n",
    "        print(\"Win/lose count {}/{}. Average score ({})\"\n",
    "                  .format(win, lose, score/(1+e)))\n",
    "    agent.set_epsilon(tmp_epsilon)\n",
    "    print('Final score: '+str(score/epochs))"
   ]
  },
  {
   "cell_type": "code",
   "execution_count": 8,
   "metadata": {},
   "outputs": [
    {
     "name": "stdout",
     "output_type": "stream",
     "text": [
      "Win/lose count 13.5/20.0. Average score (-6.5)\n",
      "Win/lose count 11.5/13.0. Average score (-4.0)\n",
      "Win/lose count 11.0/14.0. Average score (-3.6666666666666665)\n",
      "Win/lose count 6.5/9.0. Average score (-3.375)\n",
      "Win/lose count 7.0/14.0. Average score (-4.1)\n",
      "Win/lose count 11.0/20.0. Average score (-4.916666666666667)\n",
      "Win/lose count 7.5/17.0. Average score (-5.571428571428571)\n",
      "Win/lose count 4.5/7.0. Average score (-5.1875)\n",
      "Win/lose count 9.0/18.0. Average score (-5.611111111111111)\n",
      "Win/lose count 13.0/11.0. Average score (-4.85)\n",
      "Final score: -4.85\n"
     ]
    },
    {
     "data": {
      "text/html": [
       "<video alt=\"test\" controls>\n",
       "                <source src=\"data:video/mp4;base64,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\" type=\"video/mp4\" />\n",
       "             </video>"
      ],
      "text/plain": [
       "<IPython.core.display.HTML object>"
      ]
     },
     "execution_count": 8,
     "metadata": {},
     "output_type": "execute_result"
    }
   ],
   "source": [
    "# Initialize the game\n",
    "env = Environment(grid_size=size, max_time=T,temperature=temperature)\n",
    "\n",
    "# Initialize the agent!\n",
    "agent = RandomAgent()\n",
    "\n",
    "test(agent,env,epochs_test,prefix='random')\n",
    "HTML(display_videos('random0.mp4'))"
   ]
  },
  {
   "cell_type": "markdown",
   "metadata": {},
   "source": [
    "***\n",
    "## DQN"
   ]
  },
  {
   "cell_type": "markdown",
   "metadata": {},
   "source": [
    "Let us assume here that $T=\\infty$.\n",
    "\n",
    "***\n",
    "__Question 5__ Let $\\pi$ be a policy, show that:\n",
    "\n",
    "\\begin{equation*}\n",
    "Q^{\\pi}(s,a)=E_{(s',a')\\sim p(.|s,a)}[r(s,a)+\\gamma Q^{\\pi}(s',a')]\n",
    "\\end{equation*}\n",
    "\n",
    "__Answer__\n",
    "\n",
    "\\begin{align*}\n",
    "Q^\\pi(s,a) &= E_{p^{\\pi}}[\\sum_{t\\leq T}\\gamma^{t}r(s_{t},a_{t})|s_{0}=s,a_{0}=a] \\\\\n",
    "&= E_{p^{\\pi}}[r(s,a) + \\gamma \\sum_{t=1}^T \\gamma^{t-1}r(s_{t},a_{t})|s_{0}=s,a_{0}=a] \\\\\n",
    "&= E_{(s',a')\\sim p(.|s,a)}[r(s,a)+\\gamma Q^{\\pi}(s',a')]\n",
    "\\end{align*}\n",
    "\n",
    "Then, show that for the optimal policy $\\pi^*$ (we assume its existence), the following holds: \n",
    "\n",
    "\\begin{equation*}\n",
    "Q^{*}(s,a)=E_{s'\\sim \\pi^*(.|s,a)}[r(s,a)+\\gamma\\max_{a'}Q^{*}(s',a')].\n",
    "\\end{equation*}\n",
    "\n",
    "__Answer__\n",
    "\n",
    "\n",
    "\\begin{align*}\n",
    "Q^*(s,a) &= \\max_{\\pi}Q^\\pi(s,a) \\\\\n",
    "&= \\max_{\\pi} E_{(s',a')\\sim p(.|s,a)}[r(s,a)+\\gamma Q^{\\pi}(s',a')] \\\\\n",
    "&= r(s,a) + \\gamma \\max_{\\pi} E_{(s',a')\\sim p(.|s,a)}[Q^{\\pi}(s',a')] \\\\\n",
    "&= r(s,a) +  E_{s'\\sim \\pi^*(.|s,a)}[\\gamma \\max_{a'}Q^{\\pi}(s',a')] \\\\\n",
    "&= E_{s'\\sim \\pi^*(.|s,a)}[r(s,a)+\\gamma\\max_{a'}Q^{*}(s',a')].\n",
    "\\end{align*}\n",
    "\n",
    "Finally, deduce that a plausible objective is:\n",
    "\n",
    "\\begin{equation*}\n",
    "\\mathcal{L}(\\theta)=E_{s' \\sim \\pi^*(.|s,a)}\\Vert r+\\gamma\\max_{a'}Q(s',a',\\theta)-Q(s,a,\\theta)\\Vert^{2}.\n",
    "\\end{equation*}\n",
    "\n",
    "__Answer__\n",
    "\n",
    "As a square deference of $Q^*$ and $Q^\\pi$ the loss seems plausible.\n",
    "\n"
   ]
  },
  {
   "cell_type": "markdown",
   "metadata": {},
   "source": [
    "***\n",
    "The DQN-learning algorithm relies on these derivations to train the parameters $\\theta$ of a Deep Neural Network:\n",
    "\n",
    "1. At the state $s_t$, select the action $a_t$ with best reward using $Q_t$ and store the results;\n",
    "\n",
    "2. Obtain the new state $s_{t+1}$ from the environment $p$;\n",
    "\n",
    "3. Store $(s_t,a_t,s_{t+1})$;\n",
    "\n",
    "4. Obtain $Q_{t+1}$ by minimizing  $\\mathcal{L}$ from a recovered batch from the previously stored results.\n",
    "\n",
    "***\n",
    "__Question 6__ Implement the class ```Memory``` that stores moves (in a replay buffer) via ```remember``` and provides a ```random_access``` to these. Specify a maximum memory size to avoid side effects. You can for example use a ```list()``` and set by default ```max_memory=100```."
   ]
  },
  {
   "cell_type": "code",
   "execution_count": 9,
   "metadata": {
    "collapsed": true
   },
   "outputs": [],
   "source": [
    "class Memory(object):\n",
    "    def __init__(self, max_memory=100):\n",
    "        self.max_memory = max_memory\n",
    "        self.memory = list()\n",
    "        self.i = 0\n",
    "\n",
    "    def remember(self, m):\n",
    "        if len(self.memory) < self.max_memory:\n",
    "            self.memory.append(m)\n",
    "        else:\n",
    "            self.memory[self.i] = m\n",
    "        self.i = (self.i + 1) % self.max_memory        \n",
    "\n",
    "    def random_access(self):\n",
    "        return self.memory[np.random.randint(len(self.memory))]"
   ]
  },
  {
   "cell_type": "markdown",
   "metadata": {},
   "source": [
    "***\n",
    "The pipeline we will use for training is given below:"
   ]
  },
  {
   "cell_type": "code",
   "execution_count": 13,
   "metadata": {
    "collapsed": true
   },
   "outputs": [],
   "source": [
    "def train(agent,env,epoch,prefix=''):\n",
    "    # Number of won games\n",
    "    score = 0\n",
    "    loss = 0\n",
    "\n",
    "    for e in range(1, epoch+1):\n",
    "        # At each epoch, we restart to a fresh game and get the initial state\n",
    "        state = env.reset()\n",
    "        # This assumes that the games will terminate\n",
    "        game_over = False\n",
    "\n",
    "        win = 0\n",
    "        lose = 0\n",
    "\n",
    "        while not game_over:\n",
    "            # The agent performs an action\n",
    "            action = agent.act(state)\n",
    "\n",
    "            # Apply an action to the environment, get the next state, the reward\n",
    "            # and if the games end\n",
    "            prev_state = state\n",
    "            state, reward, game_over = env.act(action)\n",
    "\n",
    "            # Update the counters\n",
    "            if reward > 0:\n",
    "                win = win + reward\n",
    "            if reward < 0:\n",
    "                lose = lose -reward\n",
    "\n",
    "            # Apply the reinforcement strategy\n",
    "            loss = agent.reinforce(prev_state, state,  action, reward, game_over)\n",
    "\n",
    "        # Save as a mp4\n",
    "        if e % 10 == 0:\n",
    "            env.draw(prefix+str(e))\n",
    "\n",
    "        # Update stats\n",
    "        score += win-lose\n",
    "\n",
    "        print(\"Epoch {:03d}/{:03d} | Loss {:.4f} | Win/lose count {}/{} ({})\"\n",
    "              .format(e, epoch, loss, win, lose, win-lose))\n",
    "        agent.save(name_weights=prefix+'model.h5',name_model=prefix+'model.json')"
   ]
  },
  {
   "cell_type": "markdown",
   "metadata": {},
   "source": [
    "***\n",
    "__Question 7__ Implement the DQN training algorithm using a cascade of fully connected layers. You can use different learning rate, batch size or memory size parameters. In particular, the loss might oscillate while the player will start to win the games. You have to find a good criterium."
   ]
  },
  {
   "cell_type": "code",
   "execution_count": 11,
   "metadata": {
    "collapsed": true
   },
   "outputs": [],
   "source": [
    "class DQN(Agent):\n",
    "    def __init__(self, grid_size,  epsilon = 0.1, memory_size=100, batch_size = 16,n_state=2):\n",
    "        super(DQN, self).__init__(epsilon = epsilon)\n",
    "\n",
    "        # Discount for Q learning\n",
    "        self.discount = 0.99\n",
    "        \n",
    "        self.grid_size = grid_size\n",
    "        \n",
    "        # number of state\n",
    "        self.n_state = n_state\n",
    "\n",
    "        # Memory\n",
    "        self.memory = Memory(memory_size)\n",
    "        \n",
    "        # Batch size when learning\n",
    "        self.batch_size = batch_size\n",
    "\n",
    "    def learned_act(self, s):\n",
    "        return np.argmax(self.model.predict(s[np.newaxis,:]))\n",
    "\n",
    "    def reinforce(self, s_, n_s_, a_, r_, game_over_):\n",
    "        # Two steps: first memorize the states, second learn from the pool\n",
    "\n",
    "        self.memory.remember([s_, n_s_, a_, r_, game_over_])\n",
    "        \n",
    "        input_states = np.zeros((self.batch_size, 5,5,self.n_state))\n",
    "        target_q = np.zeros((self.batch_size, 4))\n",
    "        \n",
    "        for i in range(self.batch_size):\n",
    "            prev_state, state,  action, reward, game_over = self.memory.random_access()\n",
    "            input_states[i] = prev_state\n",
    "            target_q[i] = self.model.predict(prev_state[np.newaxis,:])\n",
    "            if game_over_:\n",
    "                target_q[i][action] = reward\n",
    "            else:\n",
    "                target_q[i][action] = reward + self.discount * self.model.predict(state[np.newaxis,:]).max()\n",
    "        target_q = np.clip(target_q, -3, 3)\n",
    "        l = self.model.train_on_batch(input_states, target_q)\n",
    "        return l\n",
    "\n",
    "    def save(self,name_weights='model.h5',name_model='model.json'):\n",
    "        self.model.save_weights(name_weights, overwrite=True)\n",
    "        with open(name_model, \"w\") as outfile:\n",
    "            json.dump(self.model.to_json(), outfile)\n",
    "            \n",
    "    def load(self,name_weights='model.h5',name_model='model.json'):\n",
    "        with open(name_model, \"r\") as jfile:\n",
    "            model = model_from_json(json.load(jfile))\n",
    "        model.load_weights(name_weights)\n",
    "        model.compile(\"sgd\", \"mse\")\n",
    "        self.model = model\n",
    "\n",
    "            \n",
    "class DQN_FC(DQN):\n",
    "    def __init__(self, *args, lr=0.1,**kwargs):\n",
    "        super(DQN_FC, self).__init__( *args,**kwargs)\n",
    "        \n",
    "        # NN Model\n",
    "        \n",
    "        model = Sequential()\n",
    "        model.add(Flatten(input_shape=(5,5,self.n_state)))\n",
    "        model.add(Dense(150, activation ='relu'))\n",
    "        model.add(Dense(75, activation='relu'))\n",
    "        model.add(Dense(4, activation='relu'))\n",
    "        \n",
    "        model.compile(sgd(lr=lr, decay=1e-4, momentum=0.0), \"mse\")\n",
    "        self.model = model\n",
    "        "
   ]
  },
  {
   "cell_type": "code",
   "execution_count": 15,
   "metadata": {
    "collapsed": true
   },
   "outputs": [
    {
     "name": "stdout",
     "output_type": "stream",
     "text": [
      "Epoch 001/050 | Loss 0.0122 | Win/lose count 1.5/2.0 (-0.5)\n",
      "Epoch 002/050 | Loss 0.0219 | Win/lose count 4.0/3.0 (1.0)\n",
      "Epoch 003/050 | Loss 0.0224 | Win/lose count 5.5/14.0 (-8.5)\n",
      "Epoch 004/050 | Loss 0.0308 | Win/lose count 3.5/0 (3.5)\n",
      "Epoch 005/050 | Loss 0.0712 | Win/lose count 5.0/7.0 (-2.0)\n",
      "Epoch 006/050 | Loss 0.1154 | Win/lose count 4.0/2.0 (2.0)\n",
      "Epoch 007/050 | Loss 0.1453 | Win/lose count 3.0/1.0 (2.0)\n",
      "Epoch 008/050 | Loss 0.3843 | Win/lose count 6.5/7.0 (-0.5)\n",
      "Epoch 009/050 | Loss 1.0833 | Win/lose count 6.5/10.0 (-3.5)\n",
      "Epoch 010/050 | Loss 1.9149 | Win/lose count 1.5/2.0 (-0.5)\n",
      "Epoch 011/050 | Loss 1.9944 | Win/lose count 1.5/1.0 (0.5)\n",
      "Epoch 012/050 | Loss 1.9454 | Win/lose count 1.5/6.0 (-4.5)\n",
      "Epoch 013/050 | Loss 1.9138 | Win/lose count 3.5/1.0 (2.5)\n",
      "Epoch 014/050 | Loss 1.8744 | Win/lose count 1.5/1.0 (0.5)\n",
      "Epoch 015/050 | Loss 1.8739 | Win/lose count 1.5/0 (1.5)\n",
      "Epoch 016/050 | Loss 1.7502 | Win/lose count 4.0/1.0 (3.0)\n",
      "Epoch 017/050 | Loss 1.8372 | Win/lose count 3.0/0 (3.0)\n",
      "Epoch 018/050 | Loss 1.8512 | Win/lose count 6.0/2.0 (4.0)\n",
      "Epoch 019/050 | Loss 1.8875 | Win/lose count 4.0/4.0 (0.0)\n",
      "Epoch 020/050 | Loss 1.9959 | Win/lose count 7.0/2.0 (5.0)\n",
      "Epoch 021/050 | Loss 1.8646 | Win/lose count 7.5/5.0 (2.5)\n",
      "Epoch 022/050 | Loss 1.8859 | Win/lose count 2.5/0 (2.5)\n",
      "Epoch 023/050 | Loss 1.9402 | Win/lose count 3.5/3.0 (0.5)\n",
      "Epoch 024/050 | Loss 1.9257 | Win/lose count 3.0/3.0 (0.0)\n",
      "Epoch 025/050 | Loss 1.8984 | Win/lose count 8.0/0 (8.0)\n",
      "Epoch 026/050 | Loss 1.8568 | Win/lose count 9.0/2.0 (7.0)\n",
      "Epoch 027/050 | Loss 1.8665 | Win/lose count 4.0/1.0 (3.0)\n",
      "Epoch 028/050 | Loss 1.9488 | Win/lose count 2.5/2.0 (0.5)\n",
      "Epoch 029/050 | Loss 1.8908 | Win/lose count 3.5/1.0 (2.5)\n",
      "Epoch 030/050 | Loss 1.9142 | Win/lose count 6.0/3.0 (3.0)\n",
      "Epoch 031/050 | Loss 1.8760 | Win/lose count 5.0/1.0 (4.0)\n",
      "Epoch 032/050 | Loss 1.8718 | Win/lose count 5.5/3.0 (2.5)\n",
      "Epoch 033/050 | Loss 1.8516 | Win/lose count 9.0/3.0 (6.0)\n",
      "Epoch 034/050 | Loss 1.8220 | Win/lose count 7.5/2.0 (5.5)\n",
      "Epoch 035/050 | Loss 1.8145 | Win/lose count 8.5/2.0 (6.5)\n",
      "Epoch 036/050 | Loss 1.8598 | Win/lose count 8.5/0 (8.5)\n",
      "Epoch 037/050 | Loss 1.7368 | Win/lose count 12.5/2.0 (10.5)\n",
      "Epoch 038/050 | Loss 1.7483 | Win/lose count 13.0/1.0 (12.0)\n",
      "Epoch 039/050 | Loss 1.7739 | Win/lose count 8.5/1.0 (7.5)\n",
      "Epoch 040/050 | Loss 1.7553 | Win/lose count 10.0/0 (10.0)\n",
      "Epoch 041/050 | Loss 1.8209 | Win/lose count 13.0/1.0 (12.0)\n",
      "Epoch 042/050 | Loss 1.7120 | Win/lose count 6.5/4.0 (2.5)\n",
      "Epoch 043/050 | Loss 1.6969 | Win/lose count 9.5/5.0 (4.5)\n",
      "Epoch 044/050 | Loss 1.7858 | Win/lose count 8.0/0 (8.0)\n",
      "Epoch 045/050 | Loss 1.7206 | Win/lose count 9.0/0 (9.0)\n",
      "Epoch 046/050 | Loss 1.7968 | Win/lose count 7.0/2.0 (5.0)\n",
      "Epoch 047/050 | Loss 1.7697 | Win/lose count 1.5/3.0 (-1.5)\n",
      "Epoch 048/050 | Loss 1.7517 | Win/lose count 8.5/5.0 (3.5)\n",
      "Epoch 049/050 | Loss 1.7718 | Win/lose count 12.5/5.0 (7.5)\n",
      "Epoch 050/050 | Loss 1.7013 | Win/lose count 14.5/1.0 (13.5)\n"
     ]
    },
    {
     "data": {
      "text/html": [
       "<video alt=\"test\" controls>\n",
       "                <source src=\"data:video/mp4;base64,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\" type=\"video/mp4\" />\n",
       "             </video>"
      ],
      "text/plain": [
       "<IPython.core.display.HTML object>"
      ]
     },
     "execution_count": 15,
     "metadata": {},
     "output_type": "execute_result"
    }
   ],
   "source": [
    "# parameters\n",
    "size = 13\n",
    "T=200\n",
    "temperature=0.3\n",
    "epochs_train=50 # set small when debugging\n",
    "epochs_test=10 # set small when debugging\n",
    "\n",
    "env = Environment(grid_size=size, max_time=T, temperature=0.3)\n",
    "agent = DQN_FC(size, lr=.1, epsilon = 0.1, memory_size=2000, batch_size = 32)\n",
    "train(agent, env, epochs_train, prefix='fc_train')\n",
    "HTML(display_videos('fc_train50.mp4'))"
   ]
  },
  {
   "cell_type": "markdown",
   "metadata": {},
   "source": [
    "***\n",
    "***\n",
    "__Question 8__ Implement the DQN training algorithm using a CNN (for example, 2 convolutional layers and one final fully connected layer)."
   ]
  },
  {
   "cell_type": "code",
   "execution_count": 17,
   "metadata": {
    "collapsed": true
   },
   "outputs": [],
   "source": [
    "class DQN_CNN(DQN):\n",
    "    def __init__(self, *args,lr=0.1,**kwargs):\n",
    "        super(DQN_CNN, self).__init__(*args,**kwargs)\n",
    "        \n",
    "        model = Sequential()\n",
    "        model.add(Conv2D(12,2,padding='same',input_shape=(5,5,self.n_state)))\n",
    "        model.add(Conv2D(32,2,padding='same', activation='relu'))\n",
    "        model.add(Flatten())\n",
    "        model.add(Dense(4,activation ='relu'))\n",
    "        \n",
    "        model.compile(sgd(lr=lr, decay=1e-4, momentum=0.0), \"mse\")\n",
    "        self.model = model"
   ]
  },
  {
   "cell_type": "code",
   "execution_count": 18,
   "metadata": {
    "collapsed": true
   },
   "outputs": [
    {
     "name": "stdout",
     "output_type": "stream",
     "text": [
      "Epoch 001/050 | Loss 2.1638 | Win/lose count 8.0/11.0 (-3.0)\n",
      "Epoch 002/050 | Loss 2.1308 | Win/lose count 15.0/11.0 (4.0)\n",
      "Epoch 003/050 | Loss 2.0873 | Win/lose count 8.5/16.0 (-7.5)\n",
      "Epoch 004/050 | Loss 2.0578 | Win/lose count 12.5/11.0 (1.5)\n",
      "Epoch 005/050 | Loss 2.0405 | Win/lose count 12.5/14.0 (-1.5)\n",
      "Epoch 006/050 | Loss 2.0260 | Win/lose count 13.0/12.0 (1.0)\n",
      "Epoch 007/050 | Loss 1.9620 | Win/lose count 9.5/3.0 (6.5)\n",
      "Epoch 008/050 | Loss 2.0368 | Win/lose count 9.5/21.0 (-11.5)\n",
      "Epoch 009/050 | Loss 1.9289 | Win/lose count 12.5/13.0 (-0.5)\n",
      "Epoch 010/050 | Loss 1.9803 | Win/lose count 15.0/14.0 (1.0)\n",
      "Epoch 011/050 | Loss 1.9646 | Win/lose count 15.0/22.0 (-7.0)\n",
      "Epoch 012/050 | Loss 2.0911 | Win/lose count 12.5/13.0 (-0.5)\n",
      "Epoch 013/050 | Loss 2.0065 | Win/lose count 8.5/13.0 (-4.5)\n",
      "Epoch 014/050 | Loss 1.9713 | Win/lose count 8.0/18.0 (-10.0)\n",
      "Epoch 015/050 | Loss 1.9005 | Win/lose count 16.0/11.0 (5.0)\n",
      "Epoch 016/050 | Loss 2.0557 | Win/lose count 10.5/8.0 (2.5)\n",
      "Epoch 017/050 | Loss 1.9291 | Win/lose count 10.0/12.0 (-2.0)\n",
      "Epoch 018/050 | Loss 1.9813 | Win/lose count 10.5/12.0 (-1.5)\n",
      "Epoch 019/050 | Loss 1.9492 | Win/lose count 18.0/17.0 (1.0)\n",
      "Epoch 020/050 | Loss 2.0070 | Win/lose count 14.5/13.0 (1.5)\n",
      "Epoch 021/050 | Loss 2.0053 | Win/lose count 10.5/12.0 (-1.5)\n",
      "Epoch 022/050 | Loss 1.9764 | Win/lose count 5.5/5.0 (0.5)\n",
      "Epoch 023/050 | Loss 2.0494 | Win/lose count 12.5/17.0 (-4.5)\n",
      "Epoch 024/050 | Loss 1.9678 | Win/lose count 8.5/11.0 (-2.5)\n",
      "Epoch 025/050 | Loss 1.9912 | Win/lose count 12.0/10.0 (2.0)\n",
      "Epoch 026/050 | Loss 1.9935 | Win/lose count 12.5/8.0 (4.5)\n",
      "Epoch 027/050 | Loss 2.0321 | Win/lose count 13.0/10.0 (3.0)\n",
      "Epoch 028/050 | Loss 2.0345 | Win/lose count 7.0/4.0 (3.0)\n",
      "Epoch 029/050 | Loss 2.0289 | Win/lose count 11.5/13.0 (-1.5)\n",
      "Epoch 030/050 | Loss 2.0654 | Win/lose count 15.5/10.0 (5.5)\n",
      "Epoch 031/050 | Loss 2.0202 | Win/lose count 8.0/10.0 (-2.0)\n",
      "Epoch 032/050 | Loss 1.9351 | Win/lose count 9.0/15.0 (-6.0)\n",
      "Epoch 033/050 | Loss 2.0385 | Win/lose count 12.0/5.0 (7.0)\n",
      "Epoch 034/050 | Loss 2.0280 | Win/lose count 12.0/16.0 (-4.0)\n",
      "Epoch 035/050 | Loss 2.0134 | Win/lose count 11.5/14.0 (-2.5)\n",
      "Epoch 036/050 | Loss 2.0220 | Win/lose count 9.5/14.0 (-4.5)\n",
      "Epoch 037/050 | Loss 2.0009 | Win/lose count 9.5/12.0 (-2.5)\n",
      "Epoch 038/050 | Loss 2.0040 | Win/lose count 17.5/16.0 (1.5)\n",
      "Epoch 039/050 | Loss 2.1041 | Win/lose count 10.0/20.0 (-10.0)\n",
      "Epoch 040/050 | Loss 2.0315 | Win/lose count 9.0/10.0 (-1.0)\n",
      "Epoch 041/050 | Loss 1.9792 | Win/lose count 10.0/7.0 (3.0)\n",
      "Epoch 042/050 | Loss 2.0607 | Win/lose count 5.5/7.0 (-1.5)\n",
      "Epoch 043/050 | Loss 1.9960 | Win/lose count 10.5/3.0 (7.5)\n",
      "Epoch 044/050 | Loss 2.0222 | Win/lose count 18.5/13.0 (5.5)\n",
      "Epoch 045/050 | Loss 2.0394 | Win/lose count 12.0/13.0 (-1.0)\n",
      "Epoch 046/050 | Loss 2.0698 | Win/lose count 8.5/12.0 (-3.5)\n",
      "Epoch 047/050 | Loss 2.0165 | Win/lose count 8.0/14.0 (-6.0)\n",
      "Epoch 048/050 | Loss 2.1177 | Win/lose count 14.0/12.0 (2.0)\n",
      "Epoch 049/050 | Loss 2.0051 | Win/lose count 14.0/14.0 (0.0)\n",
      "Epoch 050/050 | Loss 2.0171 | Win/lose count 8.0/16.0 (-8.0)\n"
     ]
    },
    {
     "data": {
      "text/html": [
       "<video alt=\"test\" controls>\n",
       "                <source src=\"data:video/mp4;base64,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\" type=\"video/mp4\" />\n",
       "             </video>"
      ],
      "text/plain": [
       "<IPython.core.display.HTML object>"
      ]
     },
     "execution_count": 18,
     "metadata": {},
     "output_type": "execute_result"
    }
   ],
   "source": [
    "env = Environment(grid_size=size, max_time=T, temperature=0.3)\n",
    "agent = DQN_CNN(size, lr=.1, epsilon = 0.8, memory_size=2000, batch_size = 32)\n",
    "train(agent,env,epochs_train,prefix='cnn_train')\n",
    "HTML(display_videos('cnn_train50.mp4'))"
   ]
  },
  {
   "cell_type": "markdown",
   "metadata": {},
   "source": [
    "***\n",
    "***\n",
    "__Question 9__ Test both algorithms and compare their performances. Which issue(s) do you observe? Observe also different behaviors by changing the temperature."
   ]
  },
  {
   "cell_type": "code",
   "execution_count": 19,
   "metadata": {
    "collapsed": true
   },
   "outputs": [
    {
     "name": "stdout",
     "output_type": "stream",
     "text": [
      "Test of the CNN\n",
      "Win/lose count 14.0/1.0. Average score (6.5)\n",
      "Win/lose count 5.0/3.0. Average score (5.0)\n",
      "Win/lose count 2.0/4.0. Average score (3.25)\n",
      "Win/lose count 11.5/2.0. Average score (4.5)\n",
      "Win/lose count 4.5/1.0. Average score (4.333333333333333)\n",
      "Win/lose count 6.0/4.0. Average score (4.0)\n",
      "Win/lose count 8.0/1.0. Average score (4.375)\n",
      "Win/lose count 3.5/0. Average score (4.277777777777778)\n",
      "Win/lose count 2.5/2.0. Average score (3.9)\n",
      "Win/lose count 5.5/0. Average score (4.045454545454546)\n",
      "Final score: 4.45\n",
      "Test of the FC\n",
      "Win/lose count 2.0/6.0. Average score (-2.0)\n",
      "Win/lose count 1.0/6.0. Average score (-3.0)\n",
      "Win/lose count 5.0/2.0. Average score (-1.5)\n",
      "Win/lose count 1.5/5.0. Average score (-1.9)\n",
      "Win/lose count 1.5/0. Average score (-1.3333333333333333)\n",
      "Win/lose count 3.0/7.0. Average score (-1.7142857142857142)\n",
      "Win/lose count 2.0/8.0. Average score (-2.25)\n",
      "Win/lose count 5.0/5.0. Average score (-2.0)\n",
      "Win/lose count 1.0/10.0. Average score (-2.7)\n",
      "Win/lose count 1.0/3.0. Average score (-2.6363636363636362)\n",
      "Final score: -2.9\n"
     ]
    }
   ],
   "source": [
    "env = Environment(grid_size=size, max_time=T,temperature=0.3)\n",
    "agent_cnn = DQN_CNN(size, lr=.1, epsilon = 0.1, memory_size=2000, batch_size = 32)\n",
    "agent_cnn.load(name_weights='cnn_trainmodel.h5',name_model='cnn_trainmodel.json')\n",
    "\n",
    "agent_fc = DQN_FC(size, lr=.1, epsilon = 0.1, memory_size=2000, batch_size = 32)\n",
    "agent_cnn.load(name_weights='fc_trainmodel.h5',name_model='fc_trainmodel.json')\n",
    "print('Test of the CNN')\n",
    "test(agent_cnn,env,epochs_test,prefix='cnn_test')\n",
    "print('Test of the FC')\n",
    "test(agent_fc,env,epochs_test,prefix='fc_test')"
   ]
  },
  {
   "cell_type": "code",
   "execution_count": 20,
   "metadata": {
    "collapsed": true
   },
   "outputs": [
    {
     "data": {
      "text/html": [
       "<video alt=\"test\" controls>\n",
       "                <source src=\"data:video/mp4;base64,AAAAIGZ0eXBpc29tAAACAGlzb21pc28yYXZjMW1wNDEAAAAIZnJlZQAAFg5tZGF0AAACrQYF//+p3EXpvebZSLeWLNgg2SPu73gyNjQgLSBjb3JlIDE0OCByMjY0MyA1YzY1NzA0IC0gSC4yNjQvTVBFRy00IEFWQyBjb2RlYyAtIENvcHlsZWZ0IDIwMDMtMjAxNSAtIGh0dHA6Ly93d3cudmlkZW9sYW4ub3JnL3gyNjQuaHRtbCAtIG9wdGlvbnM6IGNhYmFjPTEgcmVmPTMgZGVibG9jaz0xOjA6MCBhbmFseXNlPTB4MzoweDExMyBtZT1oZXggc3VibWU9NyBwc3k9MSBwc3lfcmQ9MS4wMDowLjAwIG1peGVkX3JlZj0xIG1lX3JhbmdlPTE2IGNocm9tYV9tZT0xIHRyZWxsaXM9MSA4eDhkY3Q9MSBjcW09MCBkZWFkem9uZT0yMSwxMSBmYXN0X3Bza2lwPTEgY2hyb21hX3FwX29mZnNldD00IHRocmVhZHM9OCBsb29rYWhlYWRfdGhyZWFkcz0xIHNsaWNlZF90aHJlYWRzPTAgbnI9MCBkZWNpbWF0ZT0xIGludGVybGFjZWQ9MCBibHVyYXlfY29tcGF0PTAgY29uc3RyYWluZWRfaW50cmE9MCBiZnJhbWVzPTMgYl9weXJhbWlkPTIgYl9hZGFwdD0xIGJfYmlhcz0wIGRpcmVjdD0xIHdlaWdodGI9MSBvcGVuX2dvcD0wIHdlaWdodHA9MiBrZXlpbnQ9MjUwIGtleWludF9taW49MjUgc2NlbmVjdXQ9NDAgaW50cmFfcmVmcmVzaD0wIHJjX2xvb2thaGVhZD00MCByYz1jcmYgbWJ0cmVlPTEgY3JmPTIzLjAgcWNvbXA9MC42MCBxcG1pbj0wIHFwbWF4PTY5IHFwc3RlcD00IGlwX3JhdGlvPTEuNDAgYXE9MToxLjAwAIAAAALoZYiEADv//vb8/AptUwndP/9P+VxN2UIE1zAALTEAIgTYlI6+z4vwKZrZf8CiWgOtBO4OjGRz32riKnQwOrdFL7evwrnfcCqd2iVXih1vPWVn/yVoES7XoG7PluWZPIRgpE8qm8ga80T0WZMo2/E82nRXBpuZjLFwkeWmYU97pvRrtbkqplp8EwFGWbVOKklLRdYmEanlqI/q6H+hFciBfOCaQlf2rMFSXwBxGvYD7SX9JDQFMp+10dJsqBaI3D0rUOcjqRALeCvgMwcq+TK7f3BgieSlkZ8DQ/VS4MR8bQfhTfpqcHbhlVAn3AQdm0vYZECga4DPKHr9Kj0MqHDHOqf8iLHWUANrpXp1LAsG1Kr8x8v2Ee6Wbowe0SB+b3ub/nkkp+TRN2vRJgIHXJRWE/O2HtscNAablsVA8mCaGt1+FlkNSPNJFVCkbyoqVAqLUeP3CYYpchLc1ji2FjRD1Sw38xSjuiUgkfrs9ZZc86c4ASEtNdx31oe5nhtouvjChMNHn/DE6snRhDyaedCKuUp0ZFn82MPe9tOIJQ0JiW/VFON7zKakUxTjWxeY0XtYTAoV6cBtoQyh3sdMMjXaUSFHFqAqrNp8UHXOKa4zAU9OFMjXjoPRY4USOc0awzXqzbF5yiPxOBRZJsufSWC3yxfL+FLzI+gI7FdJJTVMGzeLRJB1jMQfP27v9it4a3/AlsNonH3xqLr98IIEgq2P8RuwE9Z2fTsofFPl27NFABdpbIelrw0g1cz4pvw+YLDvADRRU94a34PYaoC8R/EJG6gcylZIt/4L+TdqRZsC00zD1JrYfvMAIRZe0l35DaWQIfRXv5KoUorJvPLjho3kn41G7s6aGD+tlu3TGGoqOJV+WJKQ5RdBbUna+hf010ZSCcecsc3AHabRTf5NhKeDtQK57+S8QhrrNTpgt511kIzj//GfBT5taJvYyd6eaWbY4RWP04mS02uZeyXnUYagK4OaHinUsGbBAAAAFUGaJGxDv/6plgBXffV9y/NhuutetgAAABNBnkJ4hf8AZwKun7g+5XIe8yddAAAAEAGeYXRCvwCK7jvK2UPSIYAAAAAQAZ5jakK/AIbtEJuM+vTcCQAAAEZBmmhJqEFomUwIb//+p4QAqHMrmVj/pR//iElhi4bahowlYlxIlhN//8QOtHDWxOEKYouqf//iEHUnhtRH0JK6TIHXGH7vAAAAFUGehkURLC//AGSEzIPn/YfMRWikYQAAABABnqV0Qr8Ahrq0ZJb/W5eBAAAAEAGep2pCvwB/GfMbockHF6QAAAAaQZqpSahBbJlMCHf//qmWAHoTISbhwUfNF3AAAAAgQZrNSeEKUmUwIb/+p4QBkfRzQVsxP9Ed+pI5Pef4UfEAAAARQZ7rRTRML/8A4f2e63zMW7gAAAAQAZ8KdEK/ATcQBztjjTPsoAAAAA8BnwxqQr8BLw0DyYIs2YEAAAAhQZsRSahBaJlMCGf//p4QBdPaj76K7u3dVZDmWWfPrrFtAAAAE0GfL0URLC//ANyI45Hk0qhRDtEAAAAQAZ9OdEK/AS52pPK/JTZVsAAAABABn1BqQr8AyJLadeAJ/POAAAAAGUGbUkmoQWyZTAhn//6eEAGT9ffyJEfWEh8AAAAZQZtzSeEKUmUwIb/+p4QAQb46fUcaEhxlQAAAABhBm5RJ4Q6JlMCG//6nhAArXupx/h9W3CMAAAAbQZu1SeEPJlMCHf/+qZYAFU+UkGP/O6QphGHhAAAAEkGb2UnhDyZTAh3//qmWAACVgAAAABFBn/dFETwv/wAZxyI5xc7nlwAAAA8BnhZ0Qr8AIr6TuDZLyDcAAAAPAZ4YakK/ACKyt0o0h4s2AAAAE0GaHUmoQWiZTAh3//6plgAAlYEAAAAQQZ47RREsL/8AGciWzfo/pgAAAA8Bnlp0Qr8AIr6TuDZLyDcAAAAPAZ5cakK/ACKyt0o0h4s3AAAAE0GaQUmoQWyZTAh3//6plgAAlYAAAAAQQZ5/RRUsL/8AGciWzfo/pgAAAA8Bnp50Qr8AIr6TuDZLyDcAAAAPAZ6AakK/ACKyt0o0h4s2AAAAE0GahUmoQWyZTAh3//6plgAAlYEAAAAQQZ6jRRUsL/8AGciWzfo/pgAAAA8BnsJ0Qr8AIr6TuDZLyDcAAAAPAZ7EakK/ACKyt0o0h4s3AAAAE0GayUmoQWyZTAh3//6plgAAlYEAAAAQQZ7nRRUsL/8AGciWzfo/pwAAAA8BnwZ0Qr8AIr6TuDZLyDYAAAAPAZ8IakK/ACKyt0o0h4s2AAAAE0GbDUmoQWyZTAh3//6plgAAlYEAAAAQQZ8rRRUsL/8AGciWzfo/pgAAAA8Bn0p0Qr8AIr6TuDZLyDYAAAAPAZ9MakK/ACKyt0o0h4s3AAAAE0GbUUmoQWyZTAh3//6plgAAlYEAAAAQQZ9vRRUsL/8AGciWzfo/pwAAAA8Bn450Qr8AIr6TuDZLyDYAAAAPAZ+QakK/ACKyt0o0h4s2AAAAE0GblUmoQWyZTAh3//6plgAAlYEAAAAQQZ+zRRUsL/8AGciWzfo/pgAAAA8Bn9J0Qr8AIr6TuDZLyDYAAAAPAZ/UakK/ACKyt0o0h4s3AAAAE0Gb2UmoQWyZTAh3//6plgAAlYAAAAAQQZ/3RRUsL/8AGciWzfo/pwAAAA8BnhZ0Qr8AIr6TuDZLyDcAAAAPAZ4YakK/ACKyt0o0h4s2AAAAE0GaHUmoQWyZTAh3//6plgAAlYEAAAAQQZ47RRUsL/8AGciWzfo/pgAAAA8Bnlp0Qr8AIr6TuDZLyDcAAAAPAZ5cakK/ACKyt0o0h4s3AAAAE0GaQUmoQWyZTAh3//6plgAAlYAAAAAQQZ5/RRUsL/8AGciWzfo/pgAAAA8Bnp50Qr8AIr6TuDZLyDcAAAAPAZ6AakK/ACKyt0o0h4s2AAAAE0GahUmoQWyZTAh3//6plgAAlYEAAAAQQZ6jRRUsL/8AGciWzfo/pgAAAA8BnsJ0Qr8AIr6TuDZLyDcAAAAPAZ7EakK/ACKyt0o0h4s3AAAAE0GayUmoQWyZTAh3//6plgAAlYEAAAAQQZ7nRRUsL/8AGciWzfo/pwAAAA8BnwZ0Qr8AIr6TuDZLyDYAAAAPAZ8IakK/ACKyt0o0h4s2AAAAE0GbDUmoQWyZTAh3//6plgAAlYEAAAAQQZ8rRRUsL/8AGciWzfo/pgAAAA8Bn0p0Qr8AIr6TuDZLyDYAAAAPAZ9MakK/ACKyt0o0h4s3AAAAE0GbUUmoQWyZTAh3//6plgAAlYEAAAAQQZ9vRRUsL/8AGciWzfo/pwAAAA8Bn450Qr8AIr6TuDZLyDYAAAAPAZ+QakK/ACKyt0o0h4s2AAAAE0GblUmoQWyZTAh3//6plgAAlYEAAAAQQZ+zRRUsL/8AGciWzfo/pgAAAA8Bn9J0Qr8AIr6TuDZLyDYAAAAPAZ/UakK/ACKyt0o0h4s3AAAAE0Gb2UmoQWyZTAh3//6plgAAlYAAAAAQQZ/3RRUsL/8AGciWzfo/pwAAAA8BnhZ0Qr8AIr6TuDZLyDcAAAAPAZ4YakK/ACKyt0o0h4s2AAAAE0GaHUmoQWyZTAh3//6plgAAlYEAAAAQQZ47RRUsL/8AGciWzfo/pgAAAA8Bnlp0Qr8AIr6TuDZLyDcAAAAPAZ5cakK/ACKyt0o0h4s3AAAAE0GaQUmoQWyZTAh3//6plgAAlYAAAAAQQZ5/RRUsL/8AGciWzfo/pgAAAA8Bnp50Qr8AIr6TuDZLyDcAAAAPAZ6AakK/ACKyt0o0h4s2AAAAEkGahUmoQWyZTAhv//6nhAABJwAAABBBnqNFFSwv/wAZyJbN+j+mAAAADwGewnRCvwAivpO4NkvINwAAAA8BnsRqQr8AIrK3SjSHizcAAAAaQZrGSahBbJlMCHf//qmWAA2ntLwtQT+wPyEAAAAYQZrqSeEKUmUwId/+qZYACIFHUIM0AquBAAAADkGfCEU0TC//AAo7KjZgAAAAEAGfJ3RCvwAVW2t2XVfwVuAAAAAQAZ8pakK/ABVba3YrR9v+wQAAABNBmy5JqEFomUwId//+qZYAAJWAAAAADEGfTEURLC//AACygAAAABABn2t0Qr8AFVtrdl1X8FbhAAAAEAGfbWpCvwAVW2t2K0fb/sEAAAATQZtySahBbJlMCHf//qmWAACVgQAAAAxBn5BFFSwv/wAAsoAAAAAQAZ+vdEK/ABVba3ZdV/BW4AAAABABn7FqQr8AFVtrditH2/7BAAAAIEGbtkmoQWyZTAh3//6plgAN97DfMss+fb7uQkHb9YjXAAAAEEGf1EUVLC//ABBaEO4+4cAAAAAQAZ/zdEK/ABa8pLupcDfGQQAAAA8Bn/VqQr8AIra13fd7/sAAAAATQZv6SahBbJlMCHf//qmWAACVgQAAAAxBnhhFFSwv/wAAsoEAAAAPAZ43dEK/ABZ//ijRJX16AAAAEAGeOWpCvwAitrXdZDDk/YEAAAATQZo+SahBbJlMCHf//qmWAACVgAAAAAxBnlxFFSwv/wAAsoEAAAAPAZ57dEK/ABZ//ijRJX17AAAAEAGefWpCvwAitrXdZDDk/YAAAAATQZpiSahBbJlMCHf//qmWAACVgAAAAAxBnoBFFSwv/wAAsoEAAAAPAZ6/dEK/ABZ//ijRJX16AAAAEAGeoWpCvwAitrXdZDDk/YEAAAATQZqmSahBbJlMCHf//qmWAACVgAAAAAxBnsRFFSwv/wAAsoEAAAAPAZ7jdEK/ABZ//ijRJX17AAAAEAGe5WpCvwAitrXdZDDk/YEAAAATQZrqSahBbJlMCHf//qmWAACVgQAAAAxBnwhFFSwv/wAAsoAAAAAPAZ8ndEK/ABZ//ijRJX16AAAAEAGfKWpCvwAitrXdZDDk/YEAAAATQZsuSahBbJlMCHf//qmWAACVgAAAAAxBn0xFFSwv/wAAsoAAAAAPAZ9rdEK/ABZ//ijRJX17AAAADwGfbWpCvwAWf/4cx1pt/QAAABNBm3JJqEFsmUwId//+qZYAAJWBAAAADEGfkEUVLC//AACygAAAABABn690Qr8AIsIA5/Wgcn7AAAAADwGfsWpCvwAWf/4cx1pt/QAAABNBm7ZJqEFsmUwId//+qZYAAJWAAAAADEGf1EUVLC//AACygAAAABABn/N0Qr8AIsIA5/Wgcn7BAAAADwGf9WpCvwAWf/4cx1pt/AAAABNBm/pJqEFsmUwId//+qZYAAJWBAAAADEGeGEUVLC//AACygQAAABABnjd0Qr8AIsIA5/Wgcn7AAAAADwGeOWpCvwAWf/4cx1pt/QAAABNBmj5JqEFsmUwId//+qZYAAJWAAAAADEGeXEUVLC//AACygQAAABABnnt0Qr8AIsIA5/Wgcn7BAAAADwGefWpCvwAWf/4cx1pt/AAAABNBmmJJqEFsmUwId//+qZYAAJWAAAAADEGegEUVLC//AACygQAAABABnr90Qr8AIsIA5/Wgcn7AAAAADwGeoWpCvwAWf/4cx1pt/QAAABNBmqZJqEFsmUwId//+qZYAAJWAAAAADEGexEUVLC//AACygQAAABABnuN0Qr8AIsIA5/Wgcn7BAAAADwGe5WpCvwAWf/4cx1pt/QAAABNBmupJqEFsmUwId//+qZYAAJWBAAAADEGfCEUVLC//AACygAAAABABnyd0Qr8AIsIA5/Wgcn7AAAAADwGfKWpCvwAWf/4cx1pt/QAAABNBmy5JqEFsmUwId//+qZYAAJWAAAAADEGfTEUVLC//AACygAAAABABn2t0Qr8AIsIA5/Wgcn7BAAAADwGfbWpCvwAWf/4cx1pt/QAAABNBm3JJqEFsmUwId//+qZYAAJWBAAAADEGfkEUVLC//AACygAAAABABn690Qr8AIsIA5/Wgcn7AAAAADwGfsWpCvwAWf/4cx1pt/QAAABNBm7ZJqEFsmUwId//+qZYAAJWAAAAADEGf1EUVLC//AACygAAAABABn/N0Qr8AIsIA5/Wgcn7BAAAADwGf9WpCvwAWf/4cx1pt/AAAABNBm/pJqEFsmUwId//+qZYAAJWBAAAADEGeGEUVLC//AACygQAAABABnjd0Qr8AIsIA5/Wgcn7AAAAADwGeOWpCvwAWf/4cx1pt/QAAABNBmj5JqEFsmUwId//+qZYAAJWAAAAADEGeXEUVLC//AACygQAAABABnnt0Qr8AIsIA5/Wgcn7BAAAADwGefWpCvwAWf/4cx1pt/AAAABJBmmJJqEFsmUwIb//+p4QAAScAAAAMQZ6ARRUsL/8AALKBAAAAEAGev3RCvwAiwgDn9aByfsAAAAAPAZ6hakK/ABZ//hzHWm39AAAAEkGapkmoQWyZTAhn//6eEAAEfAAAAAxBnsRFFSwv/wAAsoEAAAAQAZ7jdEK/ACLCAOf1oHJ+wQAAAA8BnuVqQr8AFn/+HMdabf0AAAAaQZrpS6hCEFskRggoB/IB/YeAIV/+OEAAEXEAAAAgQZ8IQhX/Aq9j7UHE3arDSSblqoYHLLW7zSogmixhNwYAAAAQAZ8naRCvACK9Ou6vx3gW4AAADHFtb292AAAAbG12aGQAAAAAAAAAAAAAAAAAAAPoAAAfkAABAAABAAAAAAAAAAAAAAAAAQAAAAAAAAAAAAAAAAAAAAEAAAAAAAAAAAAAAAAAAEAAAAAAAAAAAAAAAAAAAAAAAAAAAAAAAAAAAAAAAAACAAALm3RyYWsAAABcdGtoZAAAAAMAAAAAAAAAAAAAAAEAAAAAAAAfkAAAAAAAAAAAAAAAAAAAAAAAAQAAAAAAAAAAAAAAAAAAAAEAAAAAAAAAAAAAAAAAAEAAAAABEAAAARAAAAAAACRlZHRzAAAAHGVsc3QAAAAAAAAAAQAAH5AAAAQAAAEAAAAACxNtZGlhAAAAIG1kaGQAAAAAAAAAAAAAAAAAADIAAAGUAFXEAAAAAAAtaGRscgAAAAAAAAAAdmlkZQAAAAAAAAAAAAAAAFZpZGVvSGFuZGxlcgAAAAq+bWluZgAAABR2bWhkAAAAAQAAAAAAAAAAAAAAJGRpbmYAAAAcZHJlZgAAAAAAAAABAAAADHVybCAAAAABAAAKfnN0YmwAAACWc3RzZAAAAAAAAAABAAAAhmF2YzEAAAAAAAAAAQAAAAAAAAAAAAAAAAAAAAABEAEQAEgAAABIAAAAAAAAAAEAAAAAAAAAAAAAAAAAAAAAAAAAAAAAAAAAAAAAAAAAAAAY//8AAAAwYXZjQwH0AA3/4QAXZ/QADZGbKCIR0IAAAAMAgAAAGQeKFMsBAAZo6+PESEQAAAAYc3R0cwAAAAAAAAABAAAAygAAAgAAAAAUc3RzcwAAAAAAAAABAAAAAQAABkhjdHRzAAAAAAAAAMcAAAABAAAEAAAAAAEAAAoAAAAAAQAABAAAAAABAAAAAAAAAAEAAAIAAAAAAQAACgAAAAABAAAEAAAAAAEAAAAAAAAAAQAAAgAAAAABAAAEAAAAAAEAAAoAAAAAAQAABAAAAAABAAAAAAAAAAEAAAIAAAAAAQAACgAAAAABAAAEAAAAAAEAAAAAAAAAAQAAAgAAAAAEAAAEAAAAAAEAAAoAAAAAAQAABAAAAAABAAAAAAAAAAEAAAIAAAAAAQAACgAAAAABAAAEAAAAAAEAAAAAAAAAAQAAAgAAAAABAAAKAAAAAAEAAAQAAAAAAQAAAAAAAAABAAACAAAAAAEAAAoAAAAAAQAABAAAAAABAAAAAAAAAAEAAAIAAAAAAQAACgAAAAABAAAEAAAAAAEAAAAAAAAAAQAAAgAAAAABAAAKAAAAAAEAAAQAAAAAAQAAAAAAAAABAAACAAAAAAEAAAoAAAAAAQAABAAAAAABAAAAAAAAAAEAAAIAAAAAAQAACgAAAAABAAAEAAAAAAEAAAAAAAAAAQAAAgAAAAABAAAKAAAAAAEAAAQAAAAAAQAAAAAAAAABAAACAAAAAAEAAAoAAAAAAQAABAAAAAABAAAAAAAAAAEAAAIAAAAAAQAACgAAAAABAAAEAAAAAAEAAAAAAAAAAQAAAgAAAAABAAAKAAAAAAEAAAQAAAAAAQAAAAAAAAABAAACAAAAAAEAAAoAAAAAAQAABAAAAAABAAAAAAAAAAEAAAIAAAAAAQAACgAAAAABAAAEAAAAAAEAAAAAAAAAAQAAAgAAAAABAAAKAAAAAAEAAAQAAAAAAQAAAAAAAAABAAACAAAAAAEAAAoAAAAAAQAABAAAAAABAAAAAAAAAAEAAAIAAAAAAQAACgAAAAABAAAEAAAAAAEAAAAAAAAAAQAAAgAAAAABAAAKAAAAAAEAAAQAAAAAAQAAAAAAAAABAAACAAAAAAEAAAoAAAAAAQAABAAAAAABAAAAAAAAAAEAAAIAAAAAAQAACgAAAAABAAAEAAAAAAEAAAAAAAAAAQAAAgAAAAABAAAEAAAAAAEAAAoAAAAAAQAABAAAAAABAAAAAAAAAAEAAAIAAAAAAQAACgAAAAABAAAEAAAAAAEAAAAAAAAAAQAAAgAAAAABAAAKAAAAAAEAAAQAAAAAAQAAAAAAAAABAAACAAAAAAEAAAoAAAAAAQAABAAAAAABAAAAAAAAAAEAAAIAAAAAAQAACgAAAAABAAAEAAAAAAEAAAAAAAAAAQAAAgAAAAABAAAKAAAAAAEAAAQAAAAAAQAAAAAAAAABAAACAAAAAAEAAAoAAAAAAQAABAAAAAABAAAAAAAAAAEAAAIAAAAAAQAACgAAAAABAAAEAAAAAAEAAAAAAAAAAQAAAgAAAAABAAAKAAAAAAEAAAQAAAAAAQAAAAAAAAABAAACAAAAAAEAAAoAAAAAAQAABAAAAAABAAAAAAAAAAEAAAIAAAAAAQAACgAAAAABAAAEAAAAAAEAAAAAAAAAAQAAAgAAAAABAAAKAAAAAAEAAAQAAAAAAQAAAAAAAAABAAACAAAAAAEAAAoAAAAAAQAABAAAAAABAAAAAAAAAAEAAAIAAAAAAQAACgAAAAABAAAEAAAAAAEAAAAAAAAAAQAAAgAAAAABAAAKAAAAAAEAAAQAAAAAAQAAAAAAAAABAAACAAAAAAEAAAoAAAAAAQAABAAAAAABAAAAAAAAAAEAAAIAAAAAAQAACgAAAAABAAAEAAAAAAEAAAAAAAAAAQAAAgAAAAABAAAKAAAAAAEAAAQAAAAAAQAAAAAAAAABAAACAAAAAAEAAAoAAAAAAQAABAAAAAABAAAAAAAAAAEAAAIAAAAAAQAACgAAAAABAAAEAAAAAAEAAAAAAAAAAQAAAgAAAAABAAAKAAAAAAEAAAQAAAAAAQAAAAAAAAABAAACAAAAAAEAAAoAAAAAAQAABAAAAAABAAAAAAAAAAEAAAIAAAAAAQAACgAAAAABAAAEAAAAAAEAAAAAAAAAAQAAAgAAAAABAAAKAAAAAAEAAAQAAAAAAQAAAAAAAAABAAACAAAAAAEAAAgAAAAAAQAABAAAAAABAAAAAAAAABxzdHNjAAAAAAAAAAEAAAABAAAAygAAAAEAAAM8c3RzegAAAAAAAAAAAAAAygAABZ0AAAAZAAAAFwAAABQAAAAUAAAASgAAABkAAAAUAAAAFAAAAB4AAAAkAAAAFQAAABQAAAATAAAAJQAAABcAAAAUAAAAFAAAAB0AAAAdAAAAHAAAAB8AAAAWAAAAFQAAABMAAAATAAAAFwAAABQAAAATAAAAEwAAABcAAAAUAAAAEwAAABMAAAAXAAAAFAAAABMAAAATAAAAFwAAABQAAAATAAAAEwAAABcAAAAUAAAAEwAAABMAAAAXAAAAFAAAABMAAAATAAAAFwAAABQAAAATAAAAEwAAABcAAAAUAAAAEwAAABMAAAAXAAAAFAAAABMAAAATAAAAFwAAABQAAAATAAAAEwAAABcAAAAUAAAAEwAAABMAAAAXAAAAFAAAABMAAAATAAAAFwAAABQAAAATAAAAEwAAABcAAAAUAAAAEwAAABMAAAAXAAAAFAAAABMAAAATAAAAFwAAABQAAAATAAAAEwAAABcAAAAUAAAAEwAAABMAAAAXAAAAFAAAABMAAAATAAAAFgAAABQAAAATAAAAEwAAAB4AAAAcAAAAEgAAABQAAAAUAAAAFwAAABAAAAAUAAAAFAAAABcAAAAQAAAAFAAAABQAAAAkAAAAFAAAABQAAAATAAAAFwAAABAAAAATAAAAFAAAABcAAAAQAAAAEwAAABQAAAAXAAAAEAAAABMAAAAUAAAAFwAAABAAAAATAAAAFAAAABcAAAAQAAAAEwAAABQAAAAXAAAAEAAAABMAAAATAAAAFwAAABAAAAAUAAAAEwAAABcAAAAQAAAAFAAAABMAAAAXAAAAEAAAABQAAAATAAAAFwAAABAAAAAUAAAAEwAAABcAAAAQAAAAFAAAABMAAAAXAAAAEAAAABQAAAATAAAAFwAAABAAAAAUAAAAEwAAABcAAAAQAAAAFAAAABMAAAAXAAAAEAAAABQAAAATAAAAFwAAABAAAAAUAAAAEwAAABcAAAAQAAAAFAAAABMAAAAXAAAAEAAAABQAAAATAAAAFgAAABAAAAAUAAAAEwAAABYAAAAQAAAAFAAAABMAAAAeAAAAJAAAABQAAAAUc3RjbwAAAAAAAAABAAAAMAAAAGJ1ZHRhAAAAWm1ldGEAAAAAAAAAIWhkbHIAAAAAAAAAAG1kaXJhcHBsAAAAAAAAAAAAAAAALWlsc3QAAAAlqXRvbwAAAB1kYXRhAAAAAQAAAABMYXZmNTYuNDAuMTAx\" type=\"video/mp4\" />\n",
       "             </video>"
      ],
      "text/plain": [
       "<IPython.core.display.HTML object>"
      ]
     },
     "execution_count": 20,
     "metadata": {},
     "output_type": "execute_result"
    }
   ],
   "source": [
    "HTML(display_videos('cnn_test10.mp4'))"
   ]
  },
  {
   "cell_type": "code",
   "execution_count": 21,
   "metadata": {
    "collapsed": true
   },
   "outputs": [
    {
     "data": {
      "text/html": [
       "<video alt=\"test\" controls>\n",
       "                <source src=\"data:video/mp4;base64,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\" type=\"video/mp4\" />\n",
       "             </video>"
      ],
      "text/plain": [
       "<IPython.core.display.HTML object>"
      ]
     },
     "execution_count": 21,
     "metadata": {},
     "output_type": "execute_result"
    }
   ],
   "source": [
    "HTML(display_videos('fc_test10.mp4'))"
   ]
  },
  {
   "cell_type": "markdown",
   "metadata": {},
   "source": [
    "CNN outperform FC , however they both end up stuck in a position. We need to force exploration. The Temperature increase the number of cheese."
   ]
  },
  {
   "cell_type": "markdown",
   "metadata": {},
   "source": [
    "***\n",
    "\n",
    "The algorithm tends to not explore the map which can be an issue. We propose two ideas in order to encourage exploration:\n",
    "1. Incorporating a decreasing $\\epsilon$-greedy exploration. You can use the method ```set_epsilon```\n",
    "2. Append via the environment a new state that describes if a cell has been visited or not\n",
    "\n",
    "***\n",
    "__Question 10__ Design a new ```train_explore``` function and environment class ```EnvironmentExploring``` to tackle the issue of exploration.\n",
    "\n"
   ]
  },
  {
   "cell_type": "code",
   "execution_count": 23,
   "metadata": {
    "collapsed": true
   },
   "outputs": [],
   "source": [
    "def train_explore(agent,env,epoch,prefix=''):\n",
    "    # Number of won games\n",
    "    score = 0\n",
    "    loss = 0\n",
    "    epsilon = agent.epsilon\n",
    "\n",
    "    for e in range(1,epoch+1):\n",
    "        agent.set_epsilon(epsilon * (.85**e))\n",
    "        # At each epoch, we restart to a fresh game and get the initial state\n",
    "        state = env.reset()\n",
    "        # This assumes that the games will terminate\n",
    "        game_over = False\n",
    "\n",
    "        win = 0\n",
    "        lose = 0\n",
    "\n",
    "        while not game_over:\n",
    "            # The agent performs an action\n",
    "            action = agent.act(state)\n",
    "\n",
    "            # Apply an action to the environment, get the next state, the reward\n",
    "            # and if the games end\n",
    "            prev_state = state\n",
    "            state, reward, game_over = env.act(action, train=True)\n",
    "\n",
    "            # Update the counters\n",
    "            if reward > 0:\n",
    "                win = win + reward\n",
    "            if reward < 0:\n",
    "                lose = lose -reward\n",
    "\n",
    "            # Apply the reinforcement strategy\n",
    "            loss = agent.reinforce(prev_state, state,  action, reward, game_over)\n",
    "\n",
    "        # Save as a mp4\n",
    "        if e % 10 == 0 or e == epoch - 1:\n",
    "            env.draw(prefix+str(e))\n",
    "\n",
    "        # Update stats\n",
    "        score += win-lose\n",
    "\n",
    "        print(\"Epoch {:03d}/{:03d} | Loss {:.4f} | Win/lose count {}/{} ({})\"\n",
    "              .format(e, epoch, loss, win, lose, win-lose))\n",
    "        agent.save(name_weights=prefix+'model.h5',name_model=prefix+'model.json')\n",
    "        "
   ]
  },
  {
   "cell_type": "code",
   "execution_count": 24,
   "metadata": {},
   "outputs": [],
   "source": [
    "class EnvironmentExploring(object):\n",
    "    def __init__(self, grid_size=10, max_time=500, temperature=0.1):\n",
    "        grid_size = grid_size+4\n",
    "        self.grid_size = grid_size\n",
    "        self.max_time = max_time\n",
    "        self.temperature = temperature\n",
    "\n",
    "        #board on which one plays\n",
    "        self.board = np.zeros((grid_size,grid_size))\n",
    "        self.position = np.zeros((grid_size,grid_size))\n",
    "        self.malus_position = np.zeros((grid_size,grid_size))\n",
    "\n",
    "        # coordinate of the cat\n",
    "        self.x = 0\n",
    "        self.y = 1\n",
    "\n",
    "        # self time\n",
    "        self.t = 0\n",
    "\n",
    "        self.scale=16\n",
    "\n",
    "        self.to_draw = np.zeros((max_time+2, grid_size*self.scale, grid_size*self.scale, 3))\n",
    "\n",
    "\n",
    "    def draw(self,e):\n",
    "        skvideo.io.vwrite(str(e) + '.mp4', self.to_draw)\n",
    "\n",
    "    def get_frame(self,t):\n",
    "        b = np.zeros((self.grid_size,self.grid_size,3))+128\n",
    "        b[self.board>0,0] = 256\n",
    "        b[self.board < 0, 2] = 256\n",
    "        b[self.x,self.y,:]=256\n",
    "        b[-2:,:,:]=0\n",
    "        b[:,-2:,:]=0\n",
    "        b[:2,:,:]=0\n",
    "        b[:,:2,:]=0\n",
    "        \n",
    "        b =  cv2.resize(b, None, fx=self.scale, fy=self.scale, interpolation=cv2.INTER_NEAREST)\n",
    "\n",
    "        self.to_draw[t,:,:,:]=b\n",
    "\n",
    "\n",
    "    def act(self, action, train=False):\n",
    "        \"\"\"This function returns the new state, reward and decides if the\n",
    "        game ends.\"\"\"\n",
    "\n",
    "        self.get_frame(int(self.t))\n",
    "\n",
    "        self.position = np.zeros((self.grid_size, self.grid_size))\n",
    "\n",
    "        self.position[0:2,:]= -1\n",
    "        self.position[:,0:2] = -1\n",
    "        self.position[-2:, :] = -1\n",
    "        self.position[:, -2:] = -1\n",
    "\n",
    "        self.position[self.x, self.y] = 1\n",
    "        if action == 0:\n",
    "            if self.x == self.grid_size-3:\n",
    "                self.x = self.x-1\n",
    "            else:\n",
    "                self.x = self.x + 1\n",
    "        elif action == 1:\n",
    "            if self.x == 2:\n",
    "                self.x = self.x+1\n",
    "            else:\n",
    "                self.x = self.x-1\n",
    "        elif action == 2:\n",
    "            if self.y == self.grid_size - 3:\n",
    "                self.y = self.y - 1\n",
    "            else:\n",
    "                self.y = self.y + 1\n",
    "        elif action == 3:\n",
    "            if self.y == 2:\n",
    "                self.y = self.y + 1\n",
    "            else:\n",
    "                self.y = self.y - 1\n",
    "        else:\n",
    "            RuntimeError('Error: action not recognized')\n",
    "\n",
    "        self.t = self.t + 1\n",
    "        reward = 0\n",
    "        if train:\n",
    "            reward = -self.malus_position[self.x, self.y]\n",
    "        self.malus_position[self.x, self.y] = 0.5\n",
    "        reward = reward + self.board[self.x, self.y]\n",
    "        self.board[self.x, self.y] = 0\n",
    "        game_over = self.t > self.max_time\n",
    "        state = np.concatenate((self.malus_position.reshape(self.grid_size, self.grid_size,1),\n",
    "                                self.board.reshape(self.grid_size, self.grid_size,1),\n",
    "                        self.position.reshape(self.grid_size, self.grid_size,1)),axis=2)\n",
    "        state = state[self.x-2:self.x+3,self.y-2:self.y+3,:]\n",
    "\n",
    "        return state, reward, game_over\n",
    "\n",
    "    def reset(self):\n",
    "        \"\"\"This function resets the game and returns the initial state\"\"\"\n",
    "\n",
    "        self.x = np.random.randint(3, self.grid_size-3, size=1)[0]\n",
    "        self.y = np.random.randint(3, self.grid_size-3, size=1)[0]\n",
    "\n",
    "\n",
    "        bonus = 0.5*np.random.binomial(1,self.temperature,size=self.grid_size**2)\n",
    "        bonus = bonus.reshape(self.grid_size,self.grid_size)\n",
    "\n",
    "        malus = -1.0*np.random.binomial(1,self.temperature,size=self.grid_size**2)\n",
    "        malus = malus.reshape(self.grid_size, self.grid_size)\n",
    "\n",
    "        self.to_draw = np.zeros((self.max_time+2, self.grid_size*self.scale, self.grid_size*self.scale, 3))\n",
    "\n",
    "\n",
    "        malus[bonus>0]=0\n",
    "\n",
    "        self.board = bonus + malus\n",
    "\n",
    "        self.position = np.zeros((self.grid_size, self.grid_size))\n",
    "        self.position[0:2,:]= -1\n",
    "        self.position[:,0:2] = -1\n",
    "        self.position[-2:, :] = -1\n",
    "        self.position[-2:, :] = -1\n",
    "        self.board[self.x,self.y] = 0\n",
    "        self.t = 0\n",
    "        \n",
    "        self.malus_position = np.zeros((self.grid_size, self.grid_size))\n",
    "\n",
    "        state = np.concatenate((self.malus_position.reshape(self.grid_size, self.grid_size,1),\n",
    "                                self.board.reshape(self.grid_size, self.grid_size,1),\n",
    "                        self.position.reshape(self.grid_size, self.grid_size,1)),axis=2)\n",
    "\n",
    "        state = state[self.x - 2:self.x + 3, self.y - 2:self.y + 3, :]\n",
    "        return state"
   ]
  },
  {
   "cell_type": "code",
   "execution_count": 25,
   "metadata": {},
   "outputs": [],
   "source": [
    "size = 13\n",
    "T=200\n",
    "temperature=0.3\n",
    "epochs_train=50 # set small when debugging\n",
    "epochs_test=10 # set small when debugging"
   ]
  },
  {
   "cell_type": "code",
   "execution_count": 27,
   "metadata": {
    "collapsed": true
   },
   "outputs": [
    {
     "name": "stdout",
     "output_type": "stream",
     "text": [
      "Epoch 001/050 | Loss 0.0841 | Win/lose count 12.5/83.5 (-71.0)\n",
      "Epoch 002/050 | Loss 0.0718 | Win/lose count 7.0/82.5 (-75.5)\n",
      "Epoch 003/050 | Loss 0.0586 | Win/lose count 6.0/86.0 (-80.0)\n",
      "Epoch 004/050 | Loss 0.0563 | Win/lose count 5.0/86.5 (-81.5)\n",
      "Epoch 005/050 | Loss 0.0682 | Win/lose count 6.0/88.5 (-82.5)\n",
      "Epoch 006/050 | Loss 0.0511 | Win/lose count 7.5/86.5 (-79.0)\n",
      "Epoch 007/050 | Loss 0.0689 | Win/lose count 11.5/81.0 (-69.5)\n",
      "Epoch 008/050 | Loss 0.0933 | Win/lose count 15.0/69.5 (-54.5)\n",
      "Epoch 009/050 | Loss 0.3670 | Win/lose count 20.5/51.0 (-30.5)\n",
      "Epoch 010/050 | Loss 0.4405 | Win/lose count 18.0/60.0 (-42.0)\n",
      "Epoch 011/050 | Loss 0.4159 | Win/lose count 21.5/51.0 (-29.5)\n",
      "Epoch 012/050 | Loss 0.6021 | Win/lose count 20.0/49.5 (-29.5)\n",
      "Epoch 013/050 | Loss 0.7027 | Win/lose count 24.0/53.5 (-29.5)\n",
      "Epoch 014/050 | Loss 0.4392 | Win/lose count 18.0/62.0 (-44.0)\n",
      "Epoch 015/050 | Loss 0.5942 | Win/lose count 16.0/66.0 (-50.0)\n",
      "Epoch 016/050 | Loss 0.5243 | Win/lose count 17.5/64.5 (-47.0)\n",
      "Epoch 017/050 | Loss 0.5398 | Win/lose count 13.0/70.5 (-57.5)\n",
      "Epoch 018/050 | Loss 0.5059 | Win/lose count 21.5/48.0 (-26.5)\n",
      "Epoch 019/050 | Loss 0.3621 | Win/lose count 17.5/64.0 (-46.5)\n",
      "Epoch 020/050 | Loss 0.5551 | Win/lose count 12.0/71.0 (-59.0)\n",
      "Epoch 021/050 | Loss 0.4455 | Win/lose count 17.0/61.0 (-44.0)\n",
      "Epoch 022/050 | Loss 0.6298 | Win/lose count 23.5/56.0 (-32.5)\n",
      "Epoch 023/050 | Loss 0.5394 | Win/lose count 14.0/70.5 (-56.5)\n",
      "Epoch 024/050 | Loss 0.3471 | Win/lose count 20.5/56.5 (-36.0)\n",
      "Epoch 025/050 | Loss 0.5455 | Win/lose count 19.0/55.5 (-36.5)\n",
      "Epoch 026/050 | Loss 0.4636 | Win/lose count 18.5/61.0 (-42.5)\n",
      "Epoch 027/050 | Loss 0.4355 | Win/lose count 17.5/64.5 (-47.0)\n",
      "Epoch 028/050 | Loss 0.6228 | Win/lose count 22.0/53.0 (-31.0)\n",
      "Epoch 029/050 | Loss 0.4987 | Win/lose count 21.5/53.5 (-32.0)\n",
      "Epoch 030/050 | Loss 0.3869 | Win/lose count 15.0/68.0 (-53.0)\n",
      "Epoch 031/050 | Loss 0.2386 | Win/lose count 18.0/64.0 (-46.0)\n",
      "Epoch 032/050 | Loss 0.5494 | Win/lose count 23.5/41.0 (-17.5)\n",
      "Epoch 033/050 | Loss 0.4719 | Win/lose count 14.5/66.0 (-51.5)\n",
      "Epoch 034/050 | Loss 0.6435 | Win/lose count 20.5/59.5 (-39.0)\n",
      "Epoch 035/050 | Loss 0.5181 | Win/lose count 18.0/53.5 (-35.5)\n",
      "Epoch 036/050 | Loss 0.4813 | Win/lose count 23.0/56.5 (-33.5)\n",
      "Epoch 037/050 | Loss 0.5294 | Win/lose count 25.5/54.0 (-28.5)\n",
      "Epoch 038/050 | Loss 0.3151 | Win/lose count 19.0/62.5 (-43.5)\n",
      "Epoch 039/050 | Loss 0.4223 | Win/lose count 16.0/59.0 (-43.0)\n",
      "Epoch 040/050 | Loss 0.5815 | Win/lose count 19.5/56.5 (-37.0)\n",
      "Epoch 041/050 | Loss 0.4558 | Win/lose count 24.0/51.5 (-27.5)\n",
      "Epoch 042/050 | Loss 0.4315 | Win/lose count 18.0/65.5 (-47.5)\n",
      "Epoch 043/050 | Loss 0.5916 | Win/lose count 26.5/44.5 (-18.0)\n",
      "Epoch 044/050 | Loss 0.6764 | Win/lose count 16.5/68.5 (-52.0)\n",
      "Epoch 045/050 | Loss 0.3798 | Win/lose count 20.5/62.0 (-41.5)\n",
      "Epoch 046/050 | Loss 0.9767 | Win/lose count 20.0/56.5 (-36.5)\n",
      "Epoch 047/050 | Loss 0.4148 | Win/lose count 19.0/61.5 (-42.5)\n",
      "Epoch 048/050 | Loss 0.6891 | Win/lose count 17.0/68.0 (-51.0)\n",
      "Epoch 049/050 | Loss 0.5468 | Win/lose count 14.5/68.0 (-53.5)\n",
      "Epoch 050/050 | Loss 0.4567 | Win/lose count 20.0/63.5 (-43.5)\n"
     ]
    },
    {
     "data": {
      "text/html": [
       "<video alt=\"test\" controls>\n",
       "                <source src=\"data:video/mp4;base64,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\" type=\"video/mp4\" />\n",
       "             </video>"
      ],
      "text/plain": [
       "<IPython.core.display.HTML object>"
      ]
     },
     "execution_count": 27,
     "metadata": {},
     "output_type": "execute_result"
    }
   ],
   "source": [
    "# Training\n",
    "env = EnvironmentExploring(grid_size=size, max_time=T, temperature=0.3)\n",
    "agent = DQN_CNN(size, lr=.1, epsilon = 0.9, memory_size=2000, batch_size = 32,n_state=3)\n",
    "train_explore(agent, env, epochs_train, prefix='cnn_train_explore')\n",
    "HTML(display_videos('cnn_train_explore50.mp4'))"
   ]
  },
  {
   "cell_type": "code",
   "execution_count": 28,
   "metadata": {
    "collapsed": true
   },
   "outputs": [
    {
     "name": "stdout",
     "output_type": "stream",
     "text": [
      "Win/lose count 16.0/4.0. Average score (6.0)\n",
      "Win/lose count 14.0/5.0. Average score (7.0)\n",
      "Win/lose count 24.0/6.0. Average score (9.75)\n",
      "Win/lose count 15.0/2.0. Average score (10.4)\n",
      "Win/lose count 13.5/8.0. Average score (9.583333333333334)\n",
      "Win/lose count 21.5/4.0. Average score (10.714285714285714)\n",
      "Win/lose count 21.0/8.0. Average score (11.0)\n",
      "Win/lose count 20.0/8.0. Average score (11.11111111111111)\n",
      "Win/lose count 16.0/8.0. Average score (10.8)\n",
      "Win/lose count 9.0/1.0. Average score (10.545454545454545)\n",
      "Final score: 11.6\n"
     ]
    },
    {
     "data": {
      "text/html": [
       "<video alt=\"test\" controls>\n",
       "                <source src=\"data:video/mp4;base64,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\" type=\"video/mp4\" />\n",
       "             </video>"
      ],
      "text/plain": [
       "<IPython.core.display.HTML object>"
      ]
     },
     "execution_count": 28,
     "metadata": {},
     "output_type": "execute_result"
    }
   ],
   "source": [
    "# Evaluation\n",
    "test(agent,env,epochs_test,prefix='cnn_test_explore')\n",
    "HTML(display_videos('cnn_test_explore10.mp4'))"
   ]
  },
  {
   "cell_type": "markdown",
   "metadata": {},
   "source": [
    "It performs better but still stay stucked between two positions."
   ]
  },
  {
   "cell_type": "markdown",
   "metadata": {},
   "source": [
    "***\n",
    "***\n",
    "__BONUS question__ Use the expert DQN from the previous question to generate some winning games. Train a model that mimicks its behavior. Compare the performances."
   ]
  },
  {
   "cell_type": "markdown",
   "metadata": {},
   "source": []
  },
  {
   "cell_type": "markdown",
   "metadata": {},
   "source": [
    "***"
   ]
  }
 ],
 "metadata": {
  "kernelspec": {
   "display_name": "Python 3",
   "language": "python",
   "name": "python3"
  },
  "language_info": {
   "codemirror_mode": {
    "name": "ipython",
    "version": 3
   },
   "file_extension": ".py",
   "mimetype": "text/x-python",
   "name": "python",
   "nbconvert_exporter": "python",
   "pygments_lexer": "ipython3",
   "version": "3.6.7"
  }
 },
 "nbformat": 4,
 "nbformat_minor": 2
}
